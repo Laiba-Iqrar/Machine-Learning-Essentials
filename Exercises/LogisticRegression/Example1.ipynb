{
 "cells": [
  {
   "cell_type": "code",
   "execution_count": 63,
   "metadata": {},
   "outputs": [],
   "source": [
    "# Load libraries\n",
    "from sklearn.linear_model import LogisticRegression\n",
    "from sklearn import datasets\n",
    "from sklearn.preprocessing import StandardScaler\n",
    "from sklearn import metrics\n",
    "import matplotlib.pyplot as plt\n",
    "from sklearn.metrics import confusion_matrix, classification_report\n"
   ]
  },
  {
   "cell_type": "code",
   "execution_count": 64,
   "metadata": {},
   "outputs": [],
   "source": [
    "import pandas as pd\n"
   ]
  },
  {
   "cell_type": "code",
   "execution_count": 65,
   "metadata": {},
   "outputs": [],
   "source": [
    "from sklearn.model_selection import train_test_split\n"
   ]
  },
  {
   "cell_type": "code",
   "execution_count": 66,
   "metadata": {},
   "outputs": [],
   "source": [
    "\n",
    "from sklearn.preprocessing import StandardScaler\n",
    "from sklearn import metrics\n",
    "import matplotlib.pyplot as plt\n",
    "from sklearn.metrics import confusion_matrix, classification_report\n",
    "\n",
    "from sklearn.preprocessing import MinMaxScaler, OneHotEncoder\n",
    "from sklearn.compose import ColumnTransformer\n",
    "from sklearn.pipeline import Pipeline\n",
    "from sklearn.preprocessing import LabelEncoder"
   ]
  },
  {
   "cell_type": "code",
   "execution_count": 67,
   "metadata": {},
   "outputs": [],
   "source": [
    "d = pd.read_csv('D:/Jupyter-Notebook-Crash-Course/Datasets/HDS_pp_v2.csv')\n",
    "\n"
   ]
  },
  {
   "cell_type": "code",
   "execution_count": null,
   "metadata": {},
   "outputs": [],
   "source": []
  },
  {
   "cell_type": "code",
   "execution_count": 68,
   "metadata": {},
   "outputs": [
    {
     "name": "stdout",
     "output_type": "stream",
     "text": [
      "(734, 15)\n"
     ]
    },
    {
     "data": {
      "text/plain": [
       "(184,)"
      ]
     },
     "execution_count": 68,
     "metadata": {},
     "output_type": "execute_result"
    }
   ],
   "source": [
    "predictors = d.drop(['HeartDisease'], axis=1)\n",
    "target = d[\"HeartDisease\"]\n",
    "X_train,X_test,Y_train,Y_test = train_test_split(predictors,target,test_size=0.20,random_state=0)\n",
    "print(X_train.shape)\n",
    "X_test.shape\n",
    "Y_test.shape\n"
   ]
  },
  {
   "cell_type": "code",
   "execution_count": 69,
   "metadata": {},
   "outputs": [],
   "source": [
    "# Create logistic regression object\n",
    "logistic_regression = LogisticRegression(solver=\"liblinear\",\n",
    "random_state=0)\n",
    "# Train model\n",
    "model = logistic_regression.fit(X_train, Y_train)\n",
    "#Predictions\n",
    "Y_pred = model.predict(X_test)"
   ]
  },
  {
   "cell_type": "markdown",
   "metadata": {},
   "source": [
    "Exercise 2: Analyze the performance of logistic regression with respect to accuracy, recall, precision, FPR, and\n",
    "ROC metrics obtained for heart dataset."
   ]
  },
  {
   "cell_type": "code",
   "execution_count": 70,
   "metadata": {},
   "outputs": [
    {
     "name": "stdout",
     "output_type": "stream",
     "text": [
      "The accuracy is83.69565217391305%\n",
      "[[57 20]\n",
      " [10 97]]\n",
      "              precision    recall  f1-score   support\n",
      "\n",
      "     class 0       0.85      0.74      0.79        77\n",
      "     class 1       0.83      0.91      0.87       107\n",
      "\n",
      "    accuracy                           0.84       184\n",
      "   macro avg       0.84      0.82      0.83       184\n",
      "weighted avg       0.84      0.84      0.83       184\n",
      "\n"
     ]
    }
   ],
   "source": [
    "print(\"The accuracy is\"+str(metrics.accuracy_score(Y_test,Y_pred)*100)+\"%\")\n",
    "print(confusion_matrix(Y_test, Y_pred))\n",
    "target_names = ['class 0', 'class 1']\n",
    "print(classification_report(Y_test, Y_pred,\n",
    "target_names=target_names))\n"
   ]
  },
  {
   "cell_type": "code",
   "execution_count": 71,
   "metadata": {},
   "outputs": [
    {
     "data": {
      "text/plain": [
       "array([[0.03202427, 0.96797573],\n",
       "       [0.17351608, 0.82648392],\n",
       "       [0.02483543, 0.97516457],\n",
       "       [0.0968311 , 0.9031689 ],\n",
       "       [0.94726874, 0.05273126],\n",
       "       [0.82760767, 0.17239233],\n",
       "       [0.9896679 , 0.0103321 ],\n",
       "       [0.98111773, 0.01888227],\n",
       "       [0.88859193, 0.11140807],\n",
       "       [0.88803041, 0.11196959],\n",
       "       [0.05833444, 0.94166556],\n",
       "       [0.05104708, 0.94895292],\n",
       "       [0.02413281, 0.97586719],\n",
       "       [0.07264368, 0.92735632],\n",
       "       [0.79604   , 0.20396   ],\n",
       "       [0.02477447, 0.97522553],\n",
       "       [0.1585669 , 0.8414331 ],\n",
       "       [0.05390904, 0.94609096],\n",
       "       [0.08680272, 0.91319728],\n",
       "       [0.73581824, 0.26418176],\n",
       "       [0.09428   , 0.90572   ],\n",
       "       [0.07355625, 0.92644375],\n",
       "       [0.16339107, 0.83660893],\n",
       "       [0.04728745, 0.95271255],\n",
       "       [0.97338946, 0.02661054],\n",
       "       [0.9879376 , 0.0120624 ],\n",
       "       [0.07103483, 0.92896517],\n",
       "       [0.02303346, 0.97696654],\n",
       "       [0.04621743, 0.95378257],\n",
       "       [0.5982256 , 0.4017744 ],\n",
       "       [0.03236519, 0.96763481],\n",
       "       [0.9445582 , 0.0554418 ],\n",
       "       [0.73960141, 0.26039859],\n",
       "       [0.87443079, 0.12556921],\n",
       "       [0.37652438, 0.62347562],\n",
       "       [0.89974074, 0.10025926],\n",
       "       [0.04291584, 0.95708416],\n",
       "       [0.95978636, 0.04021364],\n",
       "       [0.21427773, 0.78572227],\n",
       "       [0.9781654 , 0.0218346 ],\n",
       "       [0.98344006, 0.01655994],\n",
       "       [0.0475971 , 0.9524029 ],\n",
       "       [0.0705854 , 0.9294146 ],\n",
       "       [0.84615699, 0.15384301],\n",
       "       [0.06320036, 0.93679964],\n",
       "       [0.9461522 , 0.0538478 ],\n",
       "       [0.98837578, 0.01162422],\n",
       "       [0.02862789, 0.97137211],\n",
       "       [0.18281803, 0.81718197],\n",
       "       [0.81836288, 0.18163712],\n",
       "       [0.10188181, 0.89811819],\n",
       "       [0.78208242, 0.21791758],\n",
       "       [0.94805769, 0.05194231],\n",
       "       [0.31206257, 0.68793743],\n",
       "       [0.02501972, 0.97498028],\n",
       "       [0.15342895, 0.84657105],\n",
       "       [0.02273929, 0.97726071],\n",
       "       [0.97403017, 0.02596983],\n",
       "       [0.49172727, 0.50827273],\n",
       "       [0.84887349, 0.15112651],\n",
       "       [0.01872241, 0.98127759],\n",
       "       [0.091704  , 0.908296  ],\n",
       "       [0.20545693, 0.79454307],\n",
       "       [0.89259041, 0.10740959],\n",
       "       [0.02694454, 0.97305546],\n",
       "       [0.49521786, 0.50478214],\n",
       "       [0.00809898, 0.99190102],\n",
       "       [0.13357483, 0.86642517],\n",
       "       [0.0411486 , 0.9588514 ],\n",
       "       [0.9664505 , 0.0335495 ],\n",
       "       [0.07561276, 0.92438724],\n",
       "       [0.14363165, 0.85636835],\n",
       "       [0.78107048, 0.21892952],\n",
       "       [0.0311623 , 0.9688377 ],\n",
       "       [0.06173574, 0.93826426],\n",
       "       [0.06687435, 0.93312565],\n",
       "       [0.18584179, 0.81415821],\n",
       "       [0.78784096, 0.21215904],\n",
       "       [0.2203839 , 0.7796161 ],\n",
       "       [0.19882436, 0.80117564],\n",
       "       [0.24920752, 0.75079248],\n",
       "       [0.05696324, 0.94303676],\n",
       "       [0.98047005, 0.01952995],\n",
       "       [0.89788795, 0.10211205],\n",
       "       [0.02749114, 0.97250886],\n",
       "       [0.81350381, 0.18649619],\n",
       "       [0.23120867, 0.76879133],\n",
       "       [0.06271587, 0.93728413],\n",
       "       [0.11527909, 0.88472091],\n",
       "       [0.74073285, 0.25926715],\n",
       "       [0.402663  , 0.597337  ],\n",
       "       [0.05827158, 0.94172842],\n",
       "       [0.98305148, 0.01694852],\n",
       "       [0.85049609, 0.14950391],\n",
       "       [0.27035206, 0.72964794],\n",
       "       [0.90018266, 0.09981734],\n",
       "       [0.13502907, 0.86497093],\n",
       "       [0.83823742, 0.16176258],\n",
       "       [0.96419695, 0.03580305],\n",
       "       [0.95604338, 0.04395662],\n",
       "       [0.01411334, 0.98588666],\n",
       "       [0.70620858, 0.29379142],\n",
       "       [0.15653934, 0.84346066],\n",
       "       [0.11817604, 0.88182396],\n",
       "       [0.01235637, 0.98764363],\n",
       "       [0.03336412, 0.96663588],\n",
       "       [0.53476564, 0.46523436],\n",
       "       [0.96782125, 0.03217875],\n",
       "       [0.7569283 , 0.2430717 ],\n",
       "       [0.277043  , 0.722957  ],\n",
       "       [0.52542823, 0.47457177],\n",
       "       [0.07429065, 0.92570935],\n",
       "       [0.42685923, 0.57314077],\n",
       "       [0.07427116, 0.92572884],\n",
       "       [0.06218417, 0.93781583],\n",
       "       [0.0589194 , 0.9410806 ],\n",
       "       [0.25535742, 0.74464258],\n",
       "       [0.3962826 , 0.6037174 ],\n",
       "       [0.04041149, 0.95958851],\n",
       "       [0.06748033, 0.93251967],\n",
       "       [0.08886516, 0.91113484],\n",
       "       [0.32102387, 0.67897613],\n",
       "       [0.26967998, 0.73032002],\n",
       "       [0.8981931 , 0.1018069 ],\n",
       "       [0.77137303, 0.22862697],\n",
       "       [0.95875115, 0.04124885],\n",
       "       [0.66191155, 0.33808845],\n",
       "       [0.24900783, 0.75099217],\n",
       "       [0.96058141, 0.03941859],\n",
       "       [0.01922836, 0.98077164],\n",
       "       [0.92751582, 0.07248418],\n",
       "       [0.00868196, 0.99131804],\n",
       "       [0.26527027, 0.73472973],\n",
       "       [0.06345846, 0.93654154],\n",
       "       [0.03749588, 0.96250412],\n",
       "       [0.84882714, 0.15117286],\n",
       "       [0.18366293, 0.81633707],\n",
       "       [0.08490805, 0.91509195],\n",
       "       [0.97335575, 0.02664425],\n",
       "       [0.95940371, 0.04059629],\n",
       "       [0.4858143 , 0.5141857 ],\n",
       "       [0.01789033, 0.98210967],\n",
       "       [0.87553695, 0.12446305],\n",
       "       [0.07679369, 0.92320631],\n",
       "       [0.29506289, 0.70493711],\n",
       "       [0.99337192, 0.00662808],\n",
       "       [0.02525844, 0.97474156],\n",
       "       [0.1950548 , 0.8049452 ],\n",
       "       [0.38923234, 0.61076766],\n",
       "       [0.15743408, 0.84256592],\n",
       "       [0.69289193, 0.30710807],\n",
       "       [0.07328301, 0.92671699],\n",
       "       [0.35522448, 0.64477552],\n",
       "       [0.9631678 , 0.0368322 ],\n",
       "       [0.19606783, 0.80393217],\n",
       "       [0.99024809, 0.00975191],\n",
       "       [0.24717113, 0.75282887],\n",
       "       [0.34303405, 0.65696595],\n",
       "       [0.35539949, 0.64460051],\n",
       "       [0.98295028, 0.01704972],\n",
       "       [0.93207586, 0.06792414],\n",
       "       [0.27135289, 0.72864711],\n",
       "       [0.02979692, 0.97020308],\n",
       "       [0.47282348, 0.52717652],\n",
       "       [0.07106294, 0.92893706],\n",
       "       [0.3289128 , 0.6710872 ],\n",
       "       [0.4947069 , 0.5052931 ],\n",
       "       [0.98831349, 0.01168651],\n",
       "       [0.23080923, 0.76919077],\n",
       "       [0.15867112, 0.84132888],\n",
       "       [0.17735434, 0.82264566],\n",
       "       [0.11518081, 0.88481919],\n",
       "       [0.95095623, 0.04904377],\n",
       "       [0.74127807, 0.25872193],\n",
       "       [0.19182509, 0.80817491],\n",
       "       [0.40459855, 0.59540145],\n",
       "       [0.39468939, 0.60531061],\n",
       "       [0.04072885, 0.95927115],\n",
       "       [0.91876562, 0.08123438],\n",
       "       [0.2087761 , 0.7912239 ],\n",
       "       [0.02740384, 0.97259616],\n",
       "       [0.77957294, 0.22042706],\n",
       "       [0.95929815, 0.04070185],\n",
       "       [0.0264584 , 0.9735416 ]])"
      ]
     },
     "execution_count": 71,
     "metadata": {},
     "output_type": "execute_result"
    }
   ],
   "source": [
    "# checking predcition prob of trained model\n",
    "y_proba = model.predict_proba(X_test)\n",
    "y_proba"
   ]
  },
  {
   "cell_type": "code",
   "execution_count": 72,
   "metadata": {},
   "outputs": [
    {
     "name": "stderr",
     "output_type": "stream",
     "text": [
      "c:\\Users\\CloudJunction\\AppData\\Local\\Programs\\Python\\Python313\\Lib\\site-packages\\sklearn\\utils\\validation.py:2739: UserWarning: X does not have valid feature names, but LogisticRegression was fitted with feature names\n",
      "  warnings.warn(\n"
     ]
    },
    {
     "ename": "IndexError",
     "evalue": "index 0 is out of bounds for axis 0 with size 0",
     "output_type": "error",
     "traceback": [
      "\u001b[1;31m---------------------------------------------------------------------------\u001b[0m",
      "\u001b[1;31mIndexError\u001b[0m                                Traceback (most recent call last)",
      "Cell \u001b[1;32mIn[72], line 30\u001b[0m\n\u001b[0;32m     27\u001b[0m plt\u001b[38;5;241m.\u001b[39mplot(X_new, y_proba, \u001b[38;5;124m\"\u001b[39m\u001b[38;5;124mk-\u001b[39m\u001b[38;5;124m\"\u001b[39m, linewidth\u001b[38;5;241m=\u001b[39m\u001b[38;5;241m2\u001b[39m, label\u001b[38;5;241m=\u001b[39m\u001b[38;5;124m\"\u001b[39m\u001b[38;5;124mSigmoid Curve\u001b[39m\u001b[38;5;124m\"\u001b[39m)  \u001b[38;5;66;03m# Sigmoid curve\u001b[39;00m\n\u001b[0;32m     29\u001b[0m \u001b[38;5;66;03m# Decision boundary (probability = 0.5)\u001b[39;00m\n\u001b[1;32m---> 30\u001b[0m decision_boundary \u001b[38;5;241m=\u001b[39m \u001b[43mX_new\u001b[49m\u001b[43m[\u001b[49m\u001b[43my_proba\u001b[49m\u001b[43m \u001b[49m\u001b[38;5;241;43m>\u001b[39;49m\u001b[38;5;241;43m=\u001b[39;49m\u001b[43m \u001b[49m\u001b[38;5;241;43m0.5\u001b[39;49m\u001b[43m]\u001b[49m\u001b[43m[\u001b[49m\u001b[38;5;241;43m0\u001b[39;49m\u001b[43m]\u001b[49m\n\u001b[0;32m     31\u001b[0m plt\u001b[38;5;241m.\u001b[39maxvline(decision_boundary, color\u001b[38;5;241m=\u001b[39m\u001b[38;5;124m'\u001b[39m\u001b[38;5;124mr\u001b[39m\u001b[38;5;124m'\u001b[39m, linestyle\u001b[38;5;241m=\u001b[39m\u001b[38;5;124m\"\u001b[39m\u001b[38;5;124m--\u001b[39m\u001b[38;5;124m\"\u001b[39m, linewidth\u001b[38;5;241m=\u001b[39m\u001b[38;5;241m2\u001b[39m, label\u001b[38;5;241m=\u001b[39m\u001b[38;5;124m\"\u001b[39m\u001b[38;5;124mDecision Boundary\u001b[39m\u001b[38;5;124m\"\u001b[39m)\n\u001b[0;32m     33\u001b[0m plt\u001b[38;5;241m.\u001b[39mxlabel(\u001b[38;5;124m\"\u001b[39m\u001b[38;5;124mStandardized Cholesterol (chol)\u001b[39m\u001b[38;5;124m\"\u001b[39m, fontsize\u001b[38;5;241m=\u001b[39m\u001b[38;5;241m14\u001b[39m)\n",
      "\u001b[1;31mIndexError\u001b[0m: index 0 is out of bounds for axis 0 with size 0"
     ]
    },
    {
     "data": {
      "image/png": "[encoded data removed]",
      "text/plain": [
       "<Figure size 800x500 with 1 Axes>"
      ]
     },
     "metadata": {},
     "output_type": "display_data"
    }
   ],
   "source": [
    "# Ensure Cholesterol exists\n",
    "assert \"Cholesterol\" in d.columns, \"Cholesterol column not found!\"\n",
    "\n",
    "# Get index safely\n",
    "feature_index = d.columns.get_loc(\"Cholesterol\")  # Get column index safely\n",
    "\n",
    "# Ensure X_train is a NumPy array\n",
    "if isinstance(X_train, pd.DataFrame):\n",
    "    X_train = X_train.to_numpy()\n",
    "\n",
    "# Extract feature\n",
    "X_feature = X_train[:, feature_index].reshape(-1, 1)\n",
    "\n",
    "# Generate new feature values for smooth probability curve\n",
    "X_new = np.linspace(X_feature.min(), X_feature.max(), 300).reshape(-1, 1)\n",
    "\n",
    "# Predict probability using only \"Cholesterol\"\n",
    "X_dummy = np.zeros((300, X_train.shape[1]))\n",
    "X_dummy[:, feature_index] = X_new.flatten()\n",
    "\n",
    "y_proba = model.predict_proba(X_dummy)[:, 1]  # Probability of class 1\n",
    "\n",
    "# ---- Plot Decision Boundary ----\n",
    "plt.figure(figsize=(8, 5))\n",
    "plt.scatter(X_feature[Y_train == 0], Y_train[Y_train == 0], color='blue', marker='s', label=\"No Heart Disease\")\n",
    "plt.scatter(X_feature[Y_train == 1], Y_train[Y_train == 1], color='green', marker='^', label=\"Heart Disease\")\n",
    "plt.plot(X_new, y_proba, \"k-\", linewidth=2, label=\"Sigmoid Curve\")  # Sigmoid curve\n",
    "\n",
    "# Decision boundary (probability = 0.5)\n",
    "decision_boundary = X_new[y_proba >= 0.5][0]\n",
    "plt.axvline(decision_boundary, color='r', linestyle=\"--\", linewidth=2, label=\"Decision Boundary\")\n",
    "\n",
    "plt.xlabel(\"Standardized Cholesterol (chol)\", fontsize=14)\n",
    "plt.ylabel(\"Probability of Heart Disease\", fontsize=14)\n",
    "plt.legend()\n",
    "plt.title(\"Logistic Regression Decision Boundary (Only chol)\")\n",
    "plt.show()\n"
   ]
  },
  {
   "cell_type": "markdown",
   "metadata": {},
   "source": []
  },
  {
   "cell_type": "code",
   "execution_count": null,
   "metadata": {},
   "outputs": [],
   "source": []
  }
 ],
 "metadata": {
  "kernelspec": {
   "display_name": "Python 3",
   "language": "python",
   "name": "python3"
  },
  "language_info": {
   "codemirror_mode": {
    "name": "ipython",
    "version": 3
   },
   "file_extension": ".py",
   "mimetype": "text/x-python",
   "name": "python",
   "nbconvert_exporter": "python",
   "pygments_lexer": "ipython3",
   "version": "3.13.0"
  }
 },
 "nbformat": 4,
 "nbformat_minor": 2
}
