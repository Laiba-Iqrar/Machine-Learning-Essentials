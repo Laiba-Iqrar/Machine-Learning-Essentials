{
 "cells": [
  {
   "cell_type": "markdown",
   "metadata": {},
   "source": [
    "Test the kNN algorithm with Euclidean and Manhattan distance metrics on heart dataset. Study the\n",
    "impact on performance metrics."
   ]
  },
  {
   "cell_type": "code",
   "execution_count": 1,
   "metadata": {},
   "outputs": [],
   "source": [
    "import numpy as np\n",
    "import csv\n",
    "import pandas as pd\n",
    "import matplotlib\n"
   ]
  },
  {
   "cell_type": "code",
   "execution_count": 4,
   "metadata": {},
   "outputs": [],
   "source": [
    "\n",
    "from sklearn.model_selection import train_test_split\n",
    "\n",
    "from sklearn import metrics\n",
    "import matplotlib.pyplot as plt\n",
    "from sklearn.metrics import confusion_matrix, classification_report"
   ]
  },
  {
   "cell_type": "code",
   "execution_count": 2,
   "metadata": {},
   "outputs": [],
   "source": [
    "d = pd.read_csv('D:/Jupyter-Notebook-Crash-Course/Datasets/HDS_pp.csv')\n"
   ]
  },
  {
   "cell_type": "code",
   "execution_count": 5,
   "metadata": {},
   "outputs": [
    {
     "name": "stdout",
     "output_type": "stream",
     "text": [
      "(734, 15)\n"
     ]
    },
    {
     "data": {
      "text/plain": [
       "(184,)"
      ]
     },
     "execution_count": 5,
     "metadata": {},
     "output_type": "execute_result"
    }
   ],
   "source": [
    "predictors = d.drop(['HeartDisease'], axis=1)\n",
    "target = d[\"HeartDisease\"]\n",
    "X_train,X_test,Y_train,Y_test = train_test_split(predictors,target,test_size=0.20,random_state=0)\n",
    "print(X_train.shape)\n",
    "X_test.shape\n",
    "Y_test.shape\n"
   ]
  },
  {
   "cell_type": "code",
   "execution_count": 12,
   "metadata": {},
   "outputs": [
    {
     "name": "stdout",
     "output_type": "stream",
     "text": [
      "predicted class is  1\n"
     ]
    }
   ],
   "source": [
    "from numpy import *\n",
    "import operator\n",
    "def Euclidean(inX, dataSet, labels, k):\n",
    "    dataSetSize = dataSet.shape[0]\n",
    "    diffMat = tile(inX, (dataSetSize,1)) - dataSet\n",
    "    sqDiffMat = diffMat**2\n",
    "    sqDistances = sqDiffMat.sum(axis=1)\n",
    "    distances = sqDistances**0.5\n",
    "    sortedDistIndicies = distances.argsort()\n",
    "    classCount={}\n",
    "    for i in range(k):\n",
    "        voteIlabel = labels[sortedDistIndicies[i]]\n",
    "        classCount[voteIlabel] = classCount.get(voteIlabel,0) + 1\n",
    "        sortedClassCount = sorted(classCount.items(),\n",
    "        key=operator.itemgetter(1), reverse=True)\n",
    "    return sortedClassCount[0][0]\n",
    "print(\"predicted class is \",Euclidean(X_test[:1].values,X_train.values, Y_train.values, 3))\n"
   ]
  },
  {
   "cell_type": "code",
   "execution_count": 18,
   "metadata": {},
   "outputs": [
    {
     "name": "stdout",
     "output_type": "stream",
     "text": [
      "predicted class is  1\n"
     ]
    }
   ],
   "source": [
    "from numpy import *\n",
    "import math\n",
    "import operator\n",
    "def Manhattan(inX, dataSet, labels, k):\n",
    "    dataSetSize = dataSet.shape[0]\n",
    "    diffMat = abs(tile(inX, (dataSetSize,1)) - dataSet)\n",
    "    distances = diffMat.sum(axis=1)\n",
    "    sortedDistIndicies = distances.argsort()\n",
    "    classCount={}\n",
    "    for i in range(k):\n",
    "        voteIlabel = labels[sortedDistIndicies[i]]\n",
    "        classCount[voteIlabel] = classCount.get(voteIlabel,0) + 1\n",
    "        sortedClassCount = sorted(classCount.items(),\n",
    "        key=operator.itemgetter(1), reverse=True)\n",
    "    return sortedClassCount[0][0]\n",
    "print(\"predicted class is \",Manhattan(X_test[:1].values,X_train.values, Y_train.values, 3))"
   ]
  },
  {
   "cell_type": "code",
   "execution_count": 14,
   "metadata": {},
   "outputs": [
    {
     "name": "stdout",
     "output_type": "stream",
     "text": [
      "Accuracy for k=3: 84.23913043478261 %\n"
     ]
    },
    {
     "name": "stderr",
     "output_type": "stream",
     "text": [
      "C:\\Users\\CloudJunction\\AppData\\Local\\Temp\\ipykernel_13032\\2984380298.py:10: DeprecationWarning: Calling np.sum(generator) is deprecated, and in the future will give a different result. Use np.sum(np.fromiter(generator)) or the python sum builtin instead.\n",
      "  correct_count = sum(p == a for p, a in zip(predictions, actual_labels))\n"
     ]
    }
   ],
   "source": [
    "def predict(X_test, X_train, Y_train, k):\n",
    "    predictions = []\n",
    "    for inX in X_test:\n",
    "        result = Euclidean(inX, X_train, Y_train, k)\n",
    "        predictions.append(result)\n",
    "    return predictions\n",
    "\n",
    "# Calculate accuracy\n",
    "def calculate_accuracy(predictions, actual_labels):\n",
    "    correct_count = sum(p == a for p, a in zip(predictions, actual_labels))\n",
    "    accuracy = correct_count / len(actual_labels) * 100\n",
    "    return accuracy\n",
    "\n",
    "# Example usage:\n",
    "predictions = predict(X_test.values, X_train.values, Y_train.values, 3)\n",
    "accuracy = calculate_accuracy(predictions, Y_test.values)\n",
    "print(\"Accuracy for k=3:\", accuracy, \"%\")"
   ]
  },
  {
   "cell_type": "code",
   "execution_count": 19,
   "metadata": {},
   "outputs": [
    {
     "name": "stdout",
     "output_type": "stream",
     "text": [
      "Accuracy for k=3: 84.23913043478261 %\n"
     ]
    },
    {
     "name": "stderr",
     "output_type": "stream",
     "text": [
      "C:\\Users\\CloudJunction\\AppData\\Local\\Temp\\ipykernel_13032\\2026138751.py:10: DeprecationWarning: Calling np.sum(generator) is deprecated, and in the future will give a different result. Use np.sum(np.fromiter(generator)) or the python sum builtin instead.\n",
      "  correct_count = sum(p == a for p, a in zip(predictions, actual_labels))\n"
     ]
    }
   ],
   "source": [
    "def predict(X_test, X_train, Y_train, k):\n",
    "    predictions = []\n",
    "    for inX in X_test:\n",
    "        result = Manhattan(inX, X_train, Y_train, k)\n",
    "        predictions.append(result)\n",
    "    return predictions\n",
    "\n",
    "# Calculate accuracy\n",
    "def calculate_accuracy(predictions, actual_labels):\n",
    "    correct_count = sum(p == a for p, a in zip(predictions, actual_labels))\n",
    "    accuracy = correct_count / len(actual_labels) * 100\n",
    "    return accuracy\n",
    "\n",
    "# Example usage:\n",
    "predictions = predict(X_test.values, X_train.values, Y_train.values, 3)\n",
    "accuracy = calculate_accuracy(predictions, Y_test.values)\n",
    "print(\"Accuracy for k=3:\", accuracy, \"%\")"
   ]
  },
  {
   "cell_type": "code",
   "execution_count": null,
   "metadata": {},
   "outputs": [],
   "source": []
  }
 ],
 "metadata": {
  "kernelspec": {
   "display_name": "Python 3",
   "language": "python",
   "name": "python3"
  },
  "language_info": {
   "codemirror_mode": {
    "name": "ipython",
    "version": 3
   },
   "file_extension": ".py",
   "mimetype": "text/x-python",
   "name": "python",
   "nbconvert_exporter": "python",
   "pygments_lexer": "ipython3",
   "version": "3.13.0"
  }
 },
 "nbformat": 4,
 "nbformat_minor": 2
}
