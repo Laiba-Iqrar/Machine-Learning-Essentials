{
 "cells": [
  {
   "cell_type": "code",
   "execution_count": 2,
   "metadata": {},
   "outputs": [
    {
     "name": "stdout",
     "output_type": "stream",
     "text": [
      "Requirement already satisfied: numpy in c:\\users\\cloudjunction\\appdata\\local\\programs\\python\\python313\\lib\\site-packages (2.2.1)\n",
      "Note: you may need to restart the kernel to use updated packages.\n"
     ]
    },
    {
     "name": "stderr",
     "output_type": "stream",
     "text": [
      "\n",
      "[notice] A new release of pip is available: 24.2 -> 24.3.1\n",
      "[notice] To update, run: python.exe -m pip install --upgrade pip\n"
     ]
    }
   ],
   "source": [
    "pip install numpy"
   ]
  },
  {
   "cell_type": "code",
   "execution_count": 3,
   "metadata": {},
   "outputs": [],
   "source": [
    "import numpy as np"
   ]
  },
  {
   "cell_type": "code",
   "execution_count": 4,
   "metadata": {},
   "outputs": [
    {
     "data": {
      "text/plain": [
       "array([ 1,  3,  9, 12, 18])"
      ]
     },
     "execution_count": 4,
     "metadata": {},
     "output_type": "execute_result"
    }
   ],
   "source": [
    "l=[1 ,3, 9, 12, 18]\n",
    "arr1= np.array(l)\n",
    "arr1"
   ]
  },
  {
   "cell_type": "code",
   "execution_count": 5,
   "metadata": {},
   "outputs": [
    {
     "data": {
      "text/plain": [
       "array([[1, 5, 2, 0],\n",
       "       [3, 6, 4, 7]])"
      ]
     },
     "execution_count": 5,
     "metadata": {},
     "output_type": "execute_result"
    }
   ],
   "source": [
    "l=[[1,5,2,0],[3,6,4,7]]\n",
    "arr2=np.array(l)\n",
    "arr2"
   ]
  },
  {
   "cell_type": "code",
   "execution_count": 6,
   "metadata": {},
   "outputs": [
    {
     "data": {
      "text/plain": [
       "array([['7', '6'],\n",
       "       ['5', '4'],\n",
       "       ['3', '2']], dtype='<U1')"
      ]
     },
     "execution_count": 6,
     "metadata": {},
     "output_type": "execute_result"
    }
   ],
   "source": [
    "l=[['7','6'],['5','4'],['3','2']]\n",
    "arr3 = np.array(l)\n",
    "arr3"
   ]
  },
  {
   "cell_type": "code",
   "execution_count": 7,
   "metadata": {},
   "outputs": [
    {
     "data": {
      "text/plain": [
       "array([[11, 52, 20, 50],\n",
       "       [34, 61, 43, 17]])"
      ]
     },
     "execution_count": 7,
     "metadata": {},
     "output_type": "execute_result"
    }
   ],
   "source": [
    "l=[[11, 52 ,20, 50],[34 ,61 ,43 ,17]]\n",
    "arr4= np.array(l)\n",
    "arr4"
   ]
  },
  {
   "cell_type": "code",
   "execution_count": 8,
   "metadata": {},
   "outputs": [
    {
     "data": {
      "text/plain": [
       "array([ 2,  6, 18, 24, 36])"
      ]
     },
     "execution_count": 8,
     "metadata": {},
     "output_type": "execute_result"
    }
   ],
   "source": [
    "\n",
    "arr = np.add(arr1,arr1)\n",
    "arr"
   ]
  },
  {
   "cell_type": "code",
   "execution_count": 9,
   "metadata": {},
   "outputs": [
    {
     "data": {
      "text/plain": [
       "array([ 10,  30,  90, 120, 180])"
      ]
     },
     "execution_count": 9,
     "metadata": {},
     "output_type": "execute_result"
    }
   ],
   "source": [
    "arr = arr1 * 10\n",
    "arr"
   ]
  },
  {
   "cell_type": "code",
   "execution_count": 10,
   "metadata": {},
   "outputs": [
    {
     "name": "stdout",
     "output_type": "stream",
     "text": [
      "arr1 int64\n",
      "arr2 int64\n",
      "arr3 int64\n",
      "arr4 int64\n"
     ]
    }
   ],
   "source": [
    "intarr1 = arr1.astype(np.int64)\n",
    "intarr2 = arr2.astype(np.int64)\n",
    "intarr3 = arr3.astype(np.int64)\n",
    "intarr4 = arr4.astype(np.int64)\n",
    "print('arr1', intarr1.dtype)\n",
    "print('arr2', intarr2.dtype)\n",
    "print('arr3', intarr3.dtype)\n",
    "print('arr4', intarr4.dtype)\n"
   ]
  },
  {
   "cell_type": "code",
   "execution_count": 11,
   "metadata": {},
   "outputs": [
    {
     "data": {
      "text/plain": [
       "array([[0., 0., 0., 0., 0.],\n",
       "       [0., 0., 0., 0., 0.],\n",
       "       [0., 0., 0., 0., 0.]])"
      ]
     },
     "execution_count": 11,
     "metadata": {},
     "output_type": "execute_result"
    }
   ],
   "source": [
    "a1 = np.zeros((3,5))\n",
    "a1"
   ]
  },
  {
   "cell_type": "code",
   "execution_count": 12,
   "metadata": {},
   "outputs": [
    {
     "data": {
      "text/plain": [
       "array([[1., 1., 1., 1., 1., 1., 1., 1.],\n",
       "       [1., 1., 1., 1., 1., 1., 1., 1.]])"
      ]
     },
     "execution_count": 12,
     "metadata": {},
     "output_type": "execute_result"
    }
   ],
   "source": [
    "a2 = np.ones((2,8))\n",
    "a2"
   ]
  },
  {
   "cell_type": "code",
   "execution_count": 13,
   "metadata": {},
   "outputs": [
    {
     "name": "stdout",
     "output_type": "stream",
     "text": [
      "[[13  2 11]\n",
      " [ 4  8 14]\n",
      " [ 9 11  4]\n",
      " [11  7 10]\n",
      " [10 13  4]\n",
      " [ 5 14 13]]\n"
     ]
    }
   ],
   "source": [
    "import random\n",
    "a3 = np.random.randint(0,15,(6,3))\n",
    "print(a3)\n"
   ]
  },
  {
   "cell_type": "code",
   "execution_count": 14,
   "metadata": {},
   "outputs": [
    {
     "name": "stdout",
     "output_type": "stream",
     "text": [
      "[  1   3  81 144  18]\n"
     ]
    }
   ],
   "source": [
    "arr1[2:4] = arr1[2:4] ** 2\n",
    "\n",
    "print(arr1)"
   ]
  },
  {
   "cell_type": "code",
   "execution_count": 15,
   "metadata": {},
   "outputs": [
    {
     "name": "stdout",
     "output_type": "stream",
     "text": [
      "[[ 1 25  2  0]\n",
      " [ 3  6 16  7]]\n"
     ]
    }
   ],
   "source": [
    "arr2[0,1] = arr2[0,1] **2\n",
    "arr2[1,2] = arr2[1,2] **2\n",
    "print(arr2)"
   ]
  },
  {
   "cell_type": "code",
   "execution_count": 19,
   "metadata": {},
   "outputs": [
    {
     "data": {
      "text/plain": [
       "array([[ True, False, False],\n",
       "       [False,  True, False],\n",
       "       [False,  True,  True]])"
      ]
     },
     "execution_count": 19,
     "metadata": {},
     "output_type": "execute_result"
    }
   ],
   "source": [
    "l = [['ML', 'OS', 'CCN'],['Os','AI','MP'],['CCN',\"ML\",\"AI\"]]\n",
    "arr = np.array(l)\n",
    "(arr == 'ML') | (arr =='AI')"
   ]
  },
  {
   "cell_type": "code",
   "execution_count": null,
   "metadata": {},
   "outputs": [
    {
     "name": "stdout",
     "output_type": "stream",
     "text": [
      "[[ 1  3]\n",
      " [25  6]\n",
      " [ 2 16]\n",
      " [ 0  7]]\n",
      "[['7' '5' '3']\n",
      " ['6' '4' '2']]\n",
      "[[11 34]\n",
      " [52 61]\n",
      " [20 43]\n",
      " [50 17]]\n"
     ]
    }
   ],
   "source": [
    "# transpose of matrix\n",
    "print(arr2.T)\n",
    "print(arr3.T)\n",
    "print(arr4.T)"
   ]
  },
  {
   "cell_type": "code",
   "execution_count": 25,
   "metadata": {},
   "outputs": [
    {
     "name": "stdout",
     "output_type": "stream",
     "text": [
      "[[ 1 25  2  0 11 52 20 50]\n",
      " [ 3  6 16  7 34 61 43 17]]\n"
     ]
    }
   ],
   "source": [
    "h= np.hstack((arr2, arr4))\n",
    "print(h)"
   ]
  },
  {
   "cell_type": "code",
   "execution_count": 27,
   "metadata": {},
   "outputs": [
    {
     "name": "stdout",
     "output_type": "stream",
     "text": [
      "[[ 1 25  2  0]\n",
      " [ 3  6 16  7]\n",
      " [11 52 20 50]\n",
      " [34 61 43 17]]\n"
     ]
    }
   ],
   "source": [
    "v = np.vstack((arr2, arr4))\n",
    "print(v)"
   ]
  },
  {
   "cell_type": "code",
   "execution_count": 28,
   "metadata": {},
   "outputs": [
    {
     "name": "stdout",
     "output_type": "stream",
     "text": [
      "[[-1.   9.5 -7.  -3.5]\n",
      " [ 1.  -9.5  7.   3.5]]\n"
     ]
    }
   ],
   "source": [
    "arr2.mean(0)\n",
    "demeaned = arr2 - arr2.mean(0)\n",
    "print(demeaned)"
   ]
  },
  {
   "cell_type": "code",
   "execution_count": 29,
   "metadata": {},
   "outputs": [
    {
     "data": {
      "text/plain": [
       "array([[ 1, 25],\n",
       "       [ 2,  0],\n",
       "       [ 3,  6],\n",
       "       [16,  7]])"
      ]
     },
     "execution_count": 29,
     "metadata": {},
     "output_type": "execute_result"
    }
   ],
   "source": [
    "arr2.reshape((4, 2))"
   ]
  },
  {
   "cell_type": "code",
   "execution_count": 34,
   "metadata": {},
   "outputs": [
    {
     "data": {
      "text/plain": [
       "array([70, 80, 70])"
      ]
     },
     "execution_count": 34,
     "metadata": {},
     "output_type": "execute_result"
    }
   ],
   "source": [
    "l=[[60,70,50],[40,60,80],[70,55,65]]\n",
    "scores = np.array(l)\n",
    "np.amax(scores, axis =1)"
   ]
  },
  {
   "cell_type": "code",
   "execution_count": 41,
   "metadata": {},
   "outputs": [
    {
     "name": "stdout",
     "output_type": "stream",
     "text": [
      "1.4\n",
      "student 1 CGPA : 1.7777777777777777\n",
      "student 2 CGPA : 1.9555555555555557\n",
      "student 3 CGPA : 2.5222222222222226\n"
     ]
    }
   ],
   "source": [
    "def gradepoint(marks):\n",
    "    if marks  >=94:\n",
    "        return (4)\n",
    "    if 80<=marks <=84:\n",
    "        return (3.7)\n",
    "    if 75<=marks <=79:\n",
    "        return (3.4)\n",
    "    if 70<=marks <=74:\n",
    "        return (3.0)\n",
    "    if 67<=marks <=69:\n",
    "        return (2.7)\n",
    "    if 64<=marks <=66:\n",
    "        return (2.4)\n",
    "    if 60<=marks <=63:\n",
    "        return (2.0)\n",
    "    if 57<=marks <=59:\n",
    "        return (1.7)\n",
    "    if 54<=marks <=56:\n",
    "        return (1.4)\n",
    "    if 50 <= marks <=53:\n",
    "        return (1.0)\n",
    "    else:\n",
    "        return 0.0\n",
    "\n",
    "print(gradepoint(56))   \n",
    "\n",
    "\n",
    "\n",
    "l=[[60,40,70],[70,60,55],[50,80,65]]\n",
    "a=np.array(l)\n",
    "sub1_ch = 2\n",
    "sub2_ch = 3\n",
    "sub3_ch = 4\n",
    "sum=0\n",
    "counter =1\n",
    "for i in a:\n",
    "    sum = ( gradepoint(i[0]) * sub1_ch) + (gradepoint(i[1]) * sub2_ch) +  (gradepoint(i[2]) * sub3_ch)\n",
    "    chs= sub1_ch +sub2_ch + sub3_ch\n",
    "    gpa=sum/chs\n",
    "    print('student',counter,'CGPA :',gpa)\n",
    "    counter +=1\n",
    "    \n",
    "\n",
    "\n"
   ]
  },
  {
   "cell_type": "code",
   "execution_count": 43,
   "metadata": {},
   "outputs": [
    {
     "data": {
      "text/plain": [
       "array(['AI', 'CCN', 'ML', 'MP', 'OS'], dtype='<U3')"
      ]
     },
     "execution_count": 43,
     "metadata": {},
     "output_type": "execute_result"
    }
   ],
   "source": [
    "l = [['ML', 'OS', 'CCN'],['OS','AI','MP'],['CCN',\"ML\",\"AI\"]]\n",
    "arr= np.array(l)\n",
    "np.unique(arr)"
   ]
  },
  {
   "cell_type": "code",
   "execution_count": 47,
   "metadata": {},
   "outputs": [
    {
     "name": "stdout",
     "output_type": "stream",
     "text": [
      "[[163  22  74 124]\n",
      " [136 102 185 152]\n",
      " [168  68 163 212]\n",
      " [166  29  80 116]]\n",
      "[[-2.6852459  -0.43934426  0.59672131  2.45901639]\n",
      " [ 1.09180328  0.28852459 -0.24262295 -1.03278689]\n",
      " [-0.05901639 -0.04262295  0.01311475  0.16393443]\n",
      " [ 1.04590164  0.1442623  -0.12131148 -1.01639344]]\n"
     ]
    }
   ],
   "source": [
    "a = np.random.randint(0,15,(4,4))\n",
    "b = np.random.randint(0,15,(4,4))\n",
    "\n",
    "\n",
    "print(a.dot(b))\n",
    "print(np.linalg.inv(a))\n"
   ]
  },
  {
   "cell_type": "code",
   "execution_count": null,
   "metadata": {},
   "outputs": [
    {
     "ename": "SyntaxError",
     "evalue": "invalid syntax (3166513845.py, line 1)",
     "output_type": "error",
     "traceback": [
      "\u001b[1;36m  Cell \u001b[1;32mIn[51], line 1\u001b[1;36m\u001b[0m\n\u001b[1;33m    pip install h5py\u001b[0m\n\u001b[1;37m        ^\u001b[0m\n\u001b[1;31mSyntaxError\u001b[0m\u001b[1;31m:\u001b[0m invalid syntax\n"
     ]
    }
   ],
   "source": [
    "import h5py\n",
    "\n",
    "A = [arr1, arr2, arr3]  # each arrX is a numpy array\n",
    "\n",
    "with h5py.File('file.h5', 'w', libver='latest') as f:  # use 'latest' for performance\n",
    "\n",
    "    for idx, arr in enumerate(A):\n",
    "        dset = f.create_dataset(str(idx), shape=(240, 240), data=arr, chunks=(240, 240),\n",
    "                                compression='gzip', compression_opts=9)"
   ]
  },
  {
   "cell_type": "code",
   "execution_count": null,
   "metadata": {},
   "outputs": [],
   "source": []
  }
 ],
 "metadata": {
  "kernelspec": {
   "display_name": "Python 3",
   "language": "python",
   "name": "python3"
  },
  "language_info": {
   "codemirror_mode": {
    "name": "ipython",
    "version": 3
   },
   "file_extension": ".py",
   "mimetype": "text/x-python",
   "name": "python",
   "nbconvert_exporter": "python",
   "pygments_lexer": "ipython3",
   "version": "3.13.0"
  }
 },
 "nbformat": 4,
 "nbformat_minor": 2
}
