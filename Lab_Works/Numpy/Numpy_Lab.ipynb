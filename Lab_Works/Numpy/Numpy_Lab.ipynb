{
 "cells": [
  {
   "cell_type": "markdown",
   "metadata": {
    "id": "PjqVMUytqAe-"
   },
   "source": [
    "# Lab 01"
   ]
  },
  {
   "cell_type": "markdown",
   "metadata": {
    "id": "7khcuie9rCXs"
   },
   "source": [
    "## Install numpy"
   ]
  },
  {
   "cell_type": "code",
   "execution_count": null,
   "metadata": {
    "id": "f1SKTcL_qEWd"
   },
   "outputs": [],
   "source": [
    "pip install numpy # to be used win shell"
   ]
  },
  {
   "cell_type": "markdown",
   "metadata": {
    "id": "oEjgVfPXrJnC"
   },
   "source": [
    "### open any pyhton coding environment"
   ]
  },
  {
   "cell_type": "code",
   "execution_count": 3,
   "metadata": {
    "executionInfo": {
     "elapsed": 974,
     "status": "ok",
     "timestamp": 1735983715363,
     "user": {
      "displayName": "Nayyar Abbas",
      "userId": "14487938106157677496"
     },
     "user_tz": -300
    },
    "id": "3KmnySmbp4iM"
   },
   "outputs": [],
   "source": [
    "import numpy as np"
   ]
  },
  {
   "cell_type": "markdown",
   "metadata": {
    "id": "vcfwE1I-rxmd"
   },
   "source": [
    "## Creating ndarrays\n",
    "### Example 1\n",
    "Note:\n",
    "- Default data type in most cases in float64"
   ]
  },
  {
   "cell_type": "markdown",
   "metadata": {
    "id": "vKxGGSsNwifv"
   },
   "source": [
    "# Array creation functions\n",
    "## 1. array\n",
    "- Convert input data (list, tuple, array, or other sequence type) to an ndarray either by inferring a dtype or explicitly specifying a dtype.\n",
    "- Copies the input data by default."
   ]
  },
  {
   "cell_type": "code",
   "execution_count": null,
   "metadata": {
    "colab": {
     "base_uri": "https://localhost:8080/"
    },
    "executionInfo": {
     "elapsed": 14,
     "status": "ok",
     "timestamp": 1735983717852,
     "user": {
      "displayName": "Nayyar Abbas",
      "userId": "14487938106157677496"
     },
     "user_tz": -300
    },
    "id": "L8vrmKHHsAJv",
    "outputId": "6ced921b-672e-41e2-b512-29bbfdd878dc"
   },
   "outputs": [
    {
     "data": {
      "text/plain": [
       "array([6. , 7.5, 8. , 0. , 1. ])"
      ]
     },
     "execution_count": 4,
     "metadata": {},
     "output_type": "execute_result"
    }
   ],
   "source": [
    "# create array using array function\n",
    "data1 = [6, 7.5, 8, 0, 1]\n",
    "arr1 = np.array(data1)\n",
    "arr1\n"
   ]
  },
  {
   "cell_type": "code",
   "execution_count": 5,
   "metadata": {
    "colab": {
     "base_uri": "https://localhost:8080/"
    },
    "executionInfo": {
     "elapsed": 350,
     "status": "ok",
     "timestamp": 1735983799222,
     "user": {
      "displayName": "Nayyar Abbas",
      "userId": "14487938106157677496"
     },
     "user_tz": -300
    },
    "id": "EFUomEWYsPiB",
    "outputId": "9826a5db-9d9c-4b31-cf2a-2bbba00ca9df"
   },
   "outputs": [
    {
     "name": "stdout",
     "output_type": "stream",
     "text": [
      "[[1 2 3 4]\n",
      " [5 6 7 8]]\n"
     ]
    },
    {
     "data": {
      "text/plain": [
       "(2, 4)"
      ]
     },
     "execution_count": 5,
     "metadata": {},
     "output_type": "execute_result"
    }
   ],
   "source": [
    "# Nested sequences, like a list of equal-length lists, will be converted into a multidimensional array\n",
    "data2 = [[1, 2, 3, 4], [5, 6, 7, 8]]\n",
    "arr2 = np.array(data2)\n",
    "print(arr2)\n",
    "arr2.ndim\n",
    "arr2.shape"
   ]
  },
  {
   "cell_type": "code",
   "execution_count": 8,
   "metadata": {
    "colab": {
     "base_uri": "https://localhost:8080/"
    },
    "executionInfo": {
     "elapsed": 429,
     "status": "ok",
     "timestamp": 1735983988709,
     "user": {
      "displayName": "Nayyar Abbas",
      "userId": "14487938106157677496"
     },
     "user_tz": -300
    },
    "id": "RpPnZdWCspf4",
    "outputId": "07ee2198-ccf1-4cbc-e4a0-5001514dd094"
   },
   "outputs": [
    {
     "name": "stdout",
     "output_type": "stream",
     "text": [
      "float64\n",
      "int64\n"
     ]
    }
   ],
   "source": [
    "#Unless explicitly specified, np.array tries to infer a good data type for the array that it creates\n",
    "# The data type is stored in a special dtype object\n",
    "print( arr1.dtype)\n",
    "print( arr2.dtype)"
   ]
  },
  {
   "cell_type": "code",
   "execution_count": 14,
   "metadata": {
    "colab": {
     "base_uri": "https://localhost:8080/"
    },
    "executionInfo": {
     "elapsed": 333,
     "status": "ok",
     "timestamp": 1735984176790,
     "user": {
      "displayName": "Nayyar Abbas",
      "userId": "14487938106157677496"
     },
     "user_tz": -300
    },
    "id": "pdjbSWIjtDaz",
    "outputId": "7f499ad4-e2d1-4279-dde9-be66c3f227f6"
   },
   "outputs": [
    {
     "name": "stdout",
     "output_type": "stream",
     "text": [
      "[1. 2. 3.]\n",
      "float64\n"
     ]
    }
   ],
   "source": [
    "arr3 = np.array([1, 2, 3], dtype=np.float64)\n",
    "print(arr3)\n",
    "print( arr3.dtype)"
   ]
  },
  {
   "cell_type": "code",
   "execution_count": 13,
   "metadata": {
    "colab": {
     "base_uri": "https://localhost:8080/"
    },
    "executionInfo": {
     "elapsed": 310,
     "status": "ok",
     "timestamp": 1735984173133,
     "user": {
      "displayName": "Nayyar Abbas",
      "userId": "14487938106157677496"
     },
     "user_tz": -300
    },
    "id": "L4KLvynetgJj",
    "outputId": "7c8065dd-ecca-4023-dfa4-b27f7993a8d6"
   },
   "outputs": [
    {
     "name": "stdout",
     "output_type": "stream",
     "text": [
      "[1 2 3]\n",
      "int32\n"
     ]
    }
   ],
   "source": [
    "arr4 = np.array([1, 2, 3], dtype=np.int32)\n",
    "print(arr4)\n",
    "print(arr4.dtype)"
   ]
  },
  {
   "cell_type": "markdown",
   "metadata": {
    "id": "GGbE_W2KuP2Z"
   },
   "source": [
    "### To create a higher dimensional array with these methods, pass a tuple for the shape"
   ]
  },
  {
   "cell_type": "code",
   "execution_count": 15,
   "metadata": {
    "colab": {
     "base_uri": "https://localhost:8080/"
    },
    "executionInfo": {
     "elapsed": 304,
     "status": "ok",
     "timestamp": 1735984231763,
     "user": {
      "displayName": "Nayyar Abbas",
      "userId": "14487938106157677496"
     },
     "user_tz": -300
    },
    "id": "5kiBBpzqtk8p",
    "outputId": "e840d2af-8d00-4bb8-d0a3-d6ca0058bc7b"
   },
   "outputs": [
    {
     "data": {
      "text/plain": [
       "array([0., 0., 0., 0., 0., 0., 0., 0., 0., 0.])"
      ]
     },
     "execution_count": 15,
     "metadata": {},
     "output_type": "execute_result"
    }
   ],
   "source": [
    "np.zeros(10)"
   ]
  },
  {
   "cell_type": "code",
   "execution_count": 16,
   "metadata": {
    "colab": {
     "base_uri": "https://localhost:8080/"
    },
    "executionInfo": {
     "elapsed": 666,
     "status": "ok",
     "timestamp": 1735984242735,
     "user": {
      "displayName": "Nayyar Abbas",
      "userId": "14487938106157677496"
     },
     "user_tz": -300
    },
    "id": "5tc1zoD1uTIn",
    "outputId": "01073a45-cc38-466a-8d48-4659f5d8e8bb"
   },
   "outputs": [
    {
     "data": {
      "text/plain": [
       "array([[0., 0., 0., 0., 0., 0.],\n",
       "       [0., 0., 0., 0., 0., 0.],\n",
       "       [0., 0., 0., 0., 0., 0.]])"
      ]
     },
     "execution_count": 16,
     "metadata": {},
     "output_type": "execute_result"
    }
   ],
   "source": [
    "np.zeros((3, 6))\n"
   ]
  },
  {
   "cell_type": "markdown",
   "metadata": {
    "id": "57iJnfQqxlvW"
   },
   "source": [
    "## Note:\n",
    "1. zeros_like takes another array and produces a ones array of the same shape and dtype.\n",
    "2. Explore it at your own\n",
    "\n"
   ]
  },
  {
   "cell_type": "code",
   "execution_count": 17,
   "metadata": {
    "colab": {
     "base_uri": "https://localhost:8080/"
    },
    "executionInfo": {
     "elapsed": 318,
     "status": "ok",
     "timestamp": 1735984259298,
     "user": {
      "displayName": "Nayyar Abbas",
      "userId": "14487938106157677496"
     },
     "user_tz": -300
    },
    "id": "sqqdjsJ_uVsG",
    "outputId": "ed0694cd-a467-4666-ce28-06358ca1f506"
   },
   "outputs": [
    {
     "data": {
      "text/plain": [
       "array([[[5.06286193e-310, 0.00000000e+000],\n",
       "        [0.00000000e+000, 0.00000000e+000],\n",
       "        [0.00000000e+000, 0.00000000e+000]],\n",
       "\n",
       "       [[0.00000000e+000, 0.00000000e+000],\n",
       "        [0.00000000e+000, 0.00000000e+000],\n",
       "        [0.00000000e+000, 0.00000000e+000]]])"
      ]
     },
     "execution_count": 17,
     "metadata": {},
     "output_type": "execute_result"
    }
   ],
   "source": [
    "np.empty((2, 3, 2))  # initial garbage values are displayed"
   ]
  },
  {
   "cell_type": "markdown",
   "metadata": {
    "id": "ZYjXb7kDurE8"
   },
   "source": [
    "## arange() (similar to range)\n",
    "- arange is an array-valued version of the built-in Python range function, but returns an ndarray instead of a list.\n",
    "\n",
    "- -ve or 0 paramter does not create an array\n",
    "\n"
   ]
  },
  {
   "cell_type": "code",
   "execution_count": 23,
   "metadata": {
    "colab": {
     "base_uri": "https://localhost:8080/"
    },
    "executionInfo": {
     "elapsed": 598,
     "status": "ok",
     "timestamp": 1735984464323,
     "user": {
      "displayName": "Nayyar Abbas",
      "userId": "14487938106157677496"
     },
     "user_tz": -300
    },
    "id": "9x1XEZjauZ2C",
    "outputId": "a7ecfbd6-3d71-4991-b296-030e0a4602b3"
   },
   "outputs": [
    {
     "data": {
      "text/plain": [
       "array([ 0,  1,  2,  3,  4,  5,  6,  7,  8,  9, 10, 11, 12, 13, 14])"
      ]
     },
     "execution_count": 23,
     "metadata": {},
     "output_type": "execute_result"
    }
   ],
   "source": [
    "arr5= np.arange(15)\n",
    "arr5"
   ]
  },
  {
   "cell_type": "markdown",
   "metadata": {
    "id": "TG8zbe2BxKz_"
   },
   "source": [
    "# Some other Array creation functions\n",
    "1. ones, ones_like\n",
    "Produce an array of all 1’s with the given shape and dtype. ones_like takes another array and\n",
    "produces a ones array of the same shape and dtype.\n",
    "\n",
    "2. empty, empty_like\n",
    "Create new arrays by allocating new memory, but do not populate with any values like ones and zeros\n",
    "\n",
    "3.eye, identity\n",
    "Create a square N x N identity matrix (1’s on the diagonal and 0’s elsewhere)\n",
    "\n"
   ]
  },
  {
   "cell_type": "code",
   "execution_count": null,
   "metadata": {
    "id": "tvLzJwKlvCjt"
   },
   "outputs": [],
   "source": [
    "arr6= np."
   ]
  }
 ],
 "metadata": {
  "colab": {
   "authorship_tag": "ABX9TyPCdzCs+bkpCaJoEeWlIGzR",
   "provenance": []
  },
  "kernelspec": {
   "display_name": "Python 3",
   "name": "python3"
  },
  "language_info": {
   "name": "python"
  }
 },
 "nbformat": 4,
 "nbformat_minor": 0
}
