{
  "cells": [
    {
      "cell_type": "markdown",
      "source": [
        "# Lab 07"
      ],
      "metadata": {
        "id": "7bN0xnA5Xmvj"
      }
    },
    {
      "cell_type": "markdown",
      "metadata": {
        "id": "y6gzw6R-WWET"
      },
      "source": [
        "# MNIST Dataset\n",
        "MNIST dataset is a set of 70,000 small images of digits handwritten by high school students and\n",
        "employees of the US Census Bureau. Each image is labeled with the digit it represents. The following\n",
        "code fetches the MNIST dataset.\n"
      ]
    },
    {
      "cell_type": "code",
      "execution_count": null,
      "metadata": {
        "id": "a4_oQJllQ36F"
      },
      "outputs": [],
      "source": [
        "from sklearn.datasets import fetch_openml\n",
        "from sklearn.metrics import multilabel_confusion_matrix, classification_report,confusion_matrix\n",
        "from sklearn import metrics"
      ]
    },
    {
      "cell_type": "code",
      "source": [
        "from google.colab import drive\n",
        "drive.mount('/content/drive')"
      ],
      "metadata": {
        "colab": {
          "base_uri": "https://localhost:8080/"
        },
        "id": "slhZQbRmJoc2",
        "outputId": "6cbdc826-7f44-4c51-fd33-644ad59b0b25"
      },
      "execution_count": null,
      "outputs": [
        {
          "output_type": "stream",
          "name": "stdout",
          "text": [
            "Mounted at /content/drive\n"
          ]
        }
      ]
    },
    {
      "cell_type": "code",
      "source": [
        "# Don't run this cell\n",
        "# downloading MNIST\n",
        "import tensorflow as tf\n",
        "import pandas as pd\n",
        "\n",
        "# Load MNIST dataset\n",
        "(X_train, y_train), (X_test, y_test) = tf.keras.datasets.mnist.load_data()"
      ],
      "metadata": {
        "colab": {
          "base_uri": "https://localhost:8080/",
          "height": 622
        },
        "id": "xbrTCVSzpRbI",
        "outputId": "3ef8ee89-474b-4e92-a39d-bb8da0435862"
      },
      "execution_count": null,
      "outputs": [
        {
          "output_type": "stream",
          "name": "stdout",
          "text": [
            "Downloading data from https://storage.googleapis.com/tensorflow/tf-keras-datasets/mnist.npz\n",
            "\u001b[1m11490434/11490434\u001b[0m \u001b[32m━━━━━━━━━━━━━━━━━━━━\u001b[0m\u001b[37m\u001b[0m \u001b[1m0s\u001b[0m 0us/step\n"
          ]
        },
        {
          "output_type": "display_data",
          "data": {
            "text/plain": [
              "<Figure size 640x480 with 1 Axes>"
            ],
            "image/png": "[encoded data removed]"
          },
          "metadata": {}
        },
        {
          "output_type": "execute_result",
          "data": {
            "text/plain": [
              "'\\n# Flatten the images (28x28 → 784)\\nX_train = X_train.reshape(X_train.shape[0], -1)  # (60000, 784)\\nX_test = X_test.reshape(X_test.shape[0], -1)     # (10000, 784)\\n\\n# Combine images and labels\\ntrain_data = pd.DataFrame(X_train)\\ntrain_data.insert(0, \"label\", y_train)  # Insert labels as the first column\\n\\ntest_data = pd.DataFrame(X_test)\\ntest_data.insert(0, \"label\", y_test)\\n\\n# Save as CSV files\\ntrain_data.to_csv(\"/content/drive/MyDrive/MLPractical/mnist_train.csv\", index=False)\\ntest_data.to_csv(\"/content/drive/MyDrive/MLPractical/mnist_test.csv\", index=False)\\n\\nprint(\"MNIST dataset saved as CSV files: mnist_train.csv and mnist_test.csv\")\\n\\n'"
            ],
            "application/vnd.google.colaboratory.intrinsic+json": {
              "type": "string"
            }
          },
          "metadata": {},
          "execution_count": 50
        }
      ]
    },
    {
      "cell_type": "code",
      "source": [
        "# Display the first image\n",
        "index=2\n",
        "plt.imshow(X_train[index], cmap=\"gray\")  # Use cmap=\"gray\" for proper grayscale display\n",
        "plt.title(f\"Label: {y_train[index]}\")  # Display the label as the title\n",
        "plt.axis(\"off\")  # Remove axis for clarity\n",
        "plt.show()\n",
        "\n",
        "# Flatten the images (28x28 → 784)\n",
        "X_train = X_train.reshape(X_train.shape[0], -1)  # (60000, 784)\n",
        "X_test = X_test.reshape(X_test.shape[0], -1)     # (10000, 784)\n",
        "\n",
        "# Combine images and labels\n",
        "train_data = pd.DataFrame(X_train)\n",
        "train_data.insert(0, \"label\", y_train)  # Insert labels as the first column\n",
        "\n",
        "test_data = pd.DataFrame(X_test)\n",
        "test_data.insert(0, \"label\", y_test)\n",
        "\n",
        "# Save as CSV files\n",
        "train_data.to_csv(\"/content/drive/MyDrive/MLPractical/mnist_train.csv\", index=False)\n",
        "test_data.to_csv(\"/content/drive/MyDrive/MLPractical/mnist_test.csv\", index=False)\n",
        "\n",
        "print(\"MNIST dataset saved as CSV files: mnist_train.csv and mnist_test.csv\")\n"
      ],
      "metadata": {
        "colab": {
          "base_uri": "https://localhost:8080/",
          "height": 568
        },
        "id": "5Em79Ozzq86f",
        "outputId": "327c570c-4117-4ea1-b7ef-98f1f32ccebd"
      },
      "execution_count": null,
      "outputs": [
        {
          "output_type": "display_data",
          "data": {
            "text/plain": [
              "<Figure size 640x480 with 1 Axes>"
            ],
            "image/png": "[encoded data removed]"
          },
          "metadata": {}
        },
        {
          "output_type": "execute_result",
          "data": {
            "text/plain": [
              "'\\n# Flatten the images (28x28 → 784)\\nX_train = X_train.reshape(X_train.shape[0], -1)  # (60000, 784)\\nX_test = X_test.reshape(X_test.shape[0], -1)     # (10000, 784)\\n\\n# Combine images and labels\\ntrain_data = pd.DataFrame(X_train)\\ntrain_data.insert(0, \"label\", y_train)  # Insert labels as the first column\\n\\ntest_data = pd.DataFrame(X_test)\\ntest_data.insert(0, \"label\", y_test)\\n\\n# Save as CSV files\\ntrain_data.to_csv(\"/content/drive/MyDrive/MLPractical/mnist_train.csv\", index=False)\\ntest_data.to_csv(\"/content/drive/MyDrive/MLPractical/mnist_test.csv\", index=False)\\n\\nprint(\"MNIST dataset saved as CSV files: mnist_train.csv and mnist_test.csv\")\\n\\n'"
            ],
            "application/vnd.google.colaboratory.intrinsic+json": {
              "type": "string"
            }
          },
          "metadata": {},
          "execution_count": 52
        }
      ]
    },
    {
      "cell_type": "code",
      "execution_count": null,
      "metadata": {
        "colab": {
          "base_uri": "https://localhost:8080/"
        },
        "id": "U4QiFU3MWY5I",
        "outputId": "eaa02a8a-f9c8-4f49-f7f4-b77b3500bb35"
      },
      "outputs": [
        {
          "output_type": "execute_result",
          "data": {
            "text/plain": [
              "dict_keys(['data', 'target', 'frame', 'categories', 'feature_names', 'target_names', 'DESCR', 'details', 'url'])"
            ]
          },
          "metadata": {},
          "execution_count": 3
        }
      ],
      "source": [
        "# downaloding MNIST as a flattened image\n",
        "mnist = fetch_openml('mnist_784', version=1) # ,as_frame=False\n",
        "mnist.keys()"
      ]
    },
    {
      "cell_type": "markdown",
      "metadata": {
        "id": "fgo2njLHYuSo"
      },
      "source": [
        "Datasets loaded by Scikit-Learn generally have a similar dictionary structure including:\n",
        "* A DESCR key describing the dataset\n",
        "* A data key containing an array with one row per instance and one column per feature\n",
        "* A target key containing an array with the labels\n"
      ]
    },
    {
      "cell_type": "code",
      "execution_count": null,
      "metadata": {
        "colab": {
          "base_uri": "https://localhost:8080/"
        },
        "id": "1YqGcAOqYveR",
        "outputId": "8d851d7f-c9c9-4436-e7c5-8ca2b8fc8086"
      },
      "outputs": [
        {
          "output_type": "execute_result",
          "data": {
            "text/plain": [
              "(70000, 784)"
            ]
          },
          "metadata": {},
          "execution_count": 4
        }
      ],
      "source": [
        "X, y = mnist[\"data\"], mnist[\"target\"]\n",
        "X.shape"
      ]
    },
    {
      "cell_type": "code",
      "source": [
        "X.head()"
      ],
      "metadata": {
        "id": "RqvsXUQ1GEzw",
        "colab": {
          "base_uri": "https://localhost:8080/",
          "height": 255
        },
        "outputId": "02c5261a-c7c1-437f-f893-878c0f0fdb7a"
      },
      "execution_count": null,
      "outputs": [
        {
          "output_type": "execute_result",
          "data": {
            "text/plain": [
              "   pixel1  pixel2  pixel3  pixel4  pixel5  pixel6  pixel7  pixel8  pixel9  \\\n",
              "0       0       0       0       0       0       0       0       0       0   \n",
              "1       0       0       0       0       0       0       0       0       0   \n",
              "2       0       0       0       0       0       0       0       0       0   \n",
              "3       0       0       0       0       0       0       0       0       0   \n",
              "4       0       0       0       0       0       0       0       0       0   \n",
              "\n",
              "   pixel10  ...  pixel775  pixel776  pixel777  pixel778  pixel779  pixel780  \\\n",
              "0        0  ...         0         0         0         0         0         0   \n",
              "1        0  ...         0         0         0         0         0         0   \n",
              "2        0  ...         0         0         0         0         0         0   \n",
              "3        0  ...         0         0         0         0         0         0   \n",
              "4        0  ...         0         0         0         0         0         0   \n",
              "\n",
              "   pixel781  pixel782  pixel783  pixel784  \n",
              "0         0         0         0         0  \n",
              "1         0         0         0         0  \n",
              "2         0         0         0         0  \n",
              "3         0         0         0         0  \n",
              "4         0         0         0         0  \n",
              "\n",
              "[5 rows x 784 columns]"
            ],
            "text/html": [
              "\n",
              "  <div id=\"df-4bc2c419-aa40-41d9-933f-0e76a34077ea\" class=\"colab-df-container\">\n",
              "    <div>\n",
              "<style scoped>\n",
              "    .dataframe tbody tr th:only-of-type {\n",
              "        vertical-align: middle;\n",
              "    }\n",
              "\n",
              "    .dataframe tbody tr th {\n",
              "        vertical-align: top;\n",
              "    }\n",
              "\n",
              "    .dataframe thead th {\n",
              "        text-align: right;\n",
              "    }\n",
              "</style>\n",
              "<table border=\"1\" class=\"dataframe\">\n",
              "  <thead>\n",
              "    <tr style=\"text-align: right;\">\n",
              "      <th></th>\n",
              "      <th>pixel1</th>\n",
              "      <th>pixel2</th>\n",
              "      <th>pixel3</th>\n",
              "      <th>pixel4</th>\n",
              "      <th>pixel5</th>\n",
              "      <th>pixel6</th>\n",
              "      <th>pixel7</th>\n",
              "      <th>pixel8</th>\n",
              "      <th>pixel9</th>\n",
              "      <th>pixel10</th>\n",
              "      <th>...</th>\n",
              "      <th>pixel775</th>\n",
              "      <th>pixel776</th>\n",
              "      <th>pixel777</th>\n",
              "      <th>pixel778</th>\n",
              "      <th>pixel779</th>\n",
              "      <th>pixel780</th>\n",
              "      <th>pixel781</th>\n",
              "      <th>pixel782</th>\n",
              "      <th>pixel783</th>\n",
              "      <th>pixel784</th>\n",
              "    </tr>\n",
              "  </thead>\n",
              "  <tbody>\n",
              "    <tr>\n",
              "      <th>0</th>\n",
              "      <td>0</td>\n",
              "      <td>0</td>\n",
              "      <td>0</td>\n",
              "      <td>0</td>\n",
              "      <td>0</td>\n",
              "      <td>0</td>\n",
              "      <td>0</td>\n",
              "      <td>0</td>\n",
              "      <td>0</td>\n",
              "      <td>0</td>\n",
              "      <td>...</td>\n",
              "      <td>0</td>\n",
              "      <td>0</td>\n",
              "      <td>0</td>\n",
              "      <td>0</td>\n",
              "      <td>0</td>\n",
              "      <td>0</td>\n",
              "      <td>0</td>\n",
              "      <td>0</td>\n",
              "      <td>0</td>\n",
              "      <td>0</td>\n",
              "    </tr>\n",
              "    <tr>\n",
              "      <th>1</th>\n",
              "      <td>0</td>\n",
              "      <td>0</td>\n",
              "      <td>0</td>\n",
              "      <td>0</td>\n",
              "      <td>0</td>\n",
              "      <td>0</td>\n",
              "      <td>0</td>\n",
              "      <td>0</td>\n",
              "      <td>0</td>\n",
              "      <td>0</td>\n",
              "      <td>...</td>\n",
              "      <td>0</td>\n",
              "      <td>0</td>\n",
              "      <td>0</td>\n",
              "      <td>0</td>\n",
              "      <td>0</td>\n",
              "      <td>0</td>\n",
              "      <td>0</td>\n",
              "      <td>0</td>\n",
              "      <td>0</td>\n",
              "      <td>0</td>\n",
              "    </tr>\n",
              "    <tr>\n",
              "      <th>2</th>\n",
              "      <td>0</td>\n",
              "      <td>0</td>\n",
              "      <td>0</td>\n",
              "      <td>0</td>\n",
              "      <td>0</td>\n",
              "      <td>0</td>\n",
              "      <td>0</td>\n",
              "      <td>0</td>\n",
              "      <td>0</td>\n",
              "      <td>0</td>\n",
              "      <td>...</td>\n",
              "      <td>0</td>\n",
              "      <td>0</td>\n",
              "      <td>0</td>\n",
              "      <td>0</td>\n",
              "      <td>0</td>\n",
              "      <td>0</td>\n",
              "      <td>0</td>\n",
              "      <td>0</td>\n",
              "      <td>0</td>\n",
              "      <td>0</td>\n",
              "    </tr>\n",
              "    <tr>\n",
              "      <th>3</th>\n",
              "      <td>0</td>\n",
              "      <td>0</td>\n",
              "      <td>0</td>\n",
              "      <td>0</td>\n",
              "      <td>0</td>\n",
              "      <td>0</td>\n",
              "      <td>0</td>\n",
              "      <td>0</td>\n",
              "      <td>0</td>\n",
              "      <td>0</td>\n",
              "      <td>...</td>\n",
              "      <td>0</td>\n",
              "      <td>0</td>\n",
              "      <td>0</td>\n",
              "      <td>0</td>\n",
              "      <td>0</td>\n",
              "      <td>0</td>\n",
              "      <td>0</td>\n",
              "      <td>0</td>\n",
              "      <td>0</td>\n",
              "      <td>0</td>\n",
              "    </tr>\n",
              "    <tr>\n",
              "      <th>4</th>\n",
              "      <td>0</td>\n",
              "      <td>0</td>\n",
              "      <td>0</td>\n",
              "      <td>0</td>\n",
              "      <td>0</td>\n",
              "      <td>0</td>\n",
              "      <td>0</td>\n",
              "      <td>0</td>\n",
              "      <td>0</td>\n",
              "      <td>0</td>\n",
              "      <td>...</td>\n",
              "      <td>0</td>\n",
              "      <td>0</td>\n",
              "      <td>0</td>\n",
              "      <td>0</td>\n",
              "      <td>0</td>\n",
              "      <td>0</td>\n",
              "      <td>0</td>\n",
              "      <td>0</td>\n",
              "      <td>0</td>\n",
              "      <td>0</td>\n",
              "    </tr>\n",
              "  </tbody>\n",
              "</table>\n",
              "<p>5 rows × 784 columns</p>\n",
              "</div>\n",
              "    <div class=\"colab-df-buttons\">\n",
              "\n",
              "  <div class=\"colab-df-container\">\n",
              "    <button class=\"colab-df-convert\" onclick=\"convertToInteractive('df-4bc2c419-aa40-41d9-933f-0e76a34077ea')\"\n",
              "            title=\"Convert this dataframe to an interactive table.\"\n",
              "            style=\"display:none;\">\n",
              "\n",
              "  <svg xmlns=\"http://www.w3.org/2000/svg\" height=\"24px\" viewBox=\"0 -960 960 960\">\n",
              "    <path d=\"M120-120v-720h720v720H120Zm60-500h600v-160H180v160Zm220 220h160v-160H400v160Zm0 220h160v-160H400v160ZM180-400h160v-160H180v160Zm440 0h160v-160H620v160ZM180-180h160v-160H180v160Zm440 0h160v-160H620v160Z\"/>\n",
              "  </svg>\n",
              "    </button>\n",
              "\n",
              "  <style>\n",
              "    .colab-df-container {\n",
              "      display:flex;\n",
              "      gap: 12px;\n",
              "    }\n",
              "\n",
              "    .colab-df-convert {\n",
              "      background-color: #E8F0FE;\n",
              "      border: none;\n",
              "      border-radius: 50%;\n",
              "      cursor: pointer;\n",
              "      display: none;\n",
              "      fill: #1967D2;\n",
              "      height: 32px;\n",
              "      padding: 0 0 0 0;\n",
              "      width: 32px;\n",
              "    }\n",
              "\n",
              "    .colab-df-convert:hover {\n",
              "      background-color: #E2EBFA;\n",
              "      box-shadow: 0px 1px 2px rgba(60, 64, 67, 0.3), 0px 1px 3px 1px rgba(60, 64, 67, 0.15);\n",
              "      fill: #174EA6;\n",
              "    }\n",
              "\n",
              "    .colab-df-buttons div {\n",
              "      margin-bottom: 4px;\n",
              "    }\n",
              "\n",
              "    [theme=dark] .colab-df-convert {\n",
              "      background-color: #3B4455;\n",
              "      fill: #D2E3FC;\n",
              "    }\n",
              "\n",
              "    [theme=dark] .colab-df-convert:hover {\n",
              "      background-color: #434B5C;\n",
              "      box-shadow: 0px 1px 3px 1px rgba(0, 0, 0, 0.15);\n",
              "      filter: drop-shadow(0px 1px 2px rgba(0, 0, 0, 0.3));\n",
              "      fill: #FFFFFF;\n",
              "    }\n",
              "  </style>\n",
              "\n",
              "    <script>\n",
              "      const buttonEl =\n",
              "        document.querySelector('#df-4bc2c419-aa40-41d9-933f-0e76a34077ea button.colab-df-convert');\n",
              "      buttonEl.style.display =\n",
              "        google.colab.kernel.accessAllowed ? 'block' : 'none';\n",
              "\n",
              "      async function convertToInteractive(key) {\n",
              "        const element = document.querySelector('#df-4bc2c419-aa40-41d9-933f-0e76a34077ea');\n",
              "        const dataTable =\n",
              "          await google.colab.kernel.invokeFunction('convertToInteractive',\n",
              "                                                    [key], {});\n",
              "        if (!dataTable) return;\n",
              "\n",
              "        const docLinkHtml = 'Like what you see? Visit the ' +\n",
              "          '<a target=\"_blank\" href=https://colab.research.google.com/notebooks/data_table.ipynb>data table notebook</a>'\n",
              "          + ' to learn more about interactive tables.';\n",
              "        element.innerHTML = '';\n",
              "        dataTable['output_type'] = 'display_data';\n",
              "        await google.colab.output.renderOutput(dataTable, element);\n",
              "        const docLink = document.createElement('div');\n",
              "        docLink.innerHTML = docLinkHtml;\n",
              "        element.appendChild(docLink);\n",
              "      }\n",
              "    </script>\n",
              "  </div>\n",
              "\n",
              "\n",
              "<div id=\"df-933a0dce-29ea-4515-9f1b-8e5c2f8b2afd\">\n",
              "  <button class=\"colab-df-quickchart\" onclick=\"quickchart('df-933a0dce-29ea-4515-9f1b-8e5c2f8b2afd')\"\n",
              "            title=\"Suggest charts\"\n",
              "            style=\"display:none;\">\n",
              "\n",
              "<svg xmlns=\"http://www.w3.org/2000/svg\" height=\"24px\"viewBox=\"0 0 24 24\"\n",
              "     width=\"24px\">\n",
              "    <g>\n",
              "        <path d=\"M19 3H5c-1.1 0-2 .9-2 2v14c0 1.1.9 2 2 2h14c1.1 0 2-.9 2-2V5c0-1.1-.9-2-2-2zM9 17H7v-7h2v7zm4 0h-2V7h2v10zm4 0h-2v-4h2v4z\"/>\n",
              "    </g>\n",
              "</svg>\n",
              "  </button>\n",
              "\n",
              "<style>\n",
              "  .colab-df-quickchart {\n",
              "      --bg-color: #E8F0FE;\n",
              "      --fill-color: #1967D2;\n",
              "      --hover-bg-color: #E2EBFA;\n",
              "      --hover-fill-color: #174EA6;\n",
              "      --disabled-fill-color: #AAA;\n",
              "      --disabled-bg-color: #DDD;\n",
              "  }\n",
              "\n",
              "  [theme=dark] .colab-df-quickchart {\n",
              "      --bg-color: #3B4455;\n",
              "      --fill-color: #D2E3FC;\n",
              "      --hover-bg-color: #434B5C;\n",
              "      --hover-fill-color: #FFFFFF;\n",
              "      --disabled-bg-color: #3B4455;\n",
              "      --disabled-fill-color: #666;\n",
              "  }\n",
              "\n",
              "  .colab-df-quickchart {\n",
              "    background-color: var(--bg-color);\n",
              "    border: none;\n",
              "    border-radius: 50%;\n",
              "    cursor: pointer;\n",
              "    display: none;\n",
              "    fill: var(--fill-color);\n",
              "    height: 32px;\n",
              "    padding: 0;\n",
              "    width: 32px;\n",
              "  }\n",
              "\n",
              "  .colab-df-quickchart:hover {\n",
              "    background-color: var(--hover-bg-color);\n",
              "    box-shadow: 0 1px 2px rgba(60, 64, 67, 0.3), 0 1px 3px 1px rgba(60, 64, 67, 0.15);\n",
              "    fill: var(--button-hover-fill-color);\n",
              "  }\n",
              "\n",
              "  .colab-df-quickchart-complete:disabled,\n",
              "  .colab-df-quickchart-complete:disabled:hover {\n",
              "    background-color: var(--disabled-bg-color);\n",
              "    fill: var(--disabled-fill-color);\n",
              "    box-shadow: none;\n",
              "  }\n",
              "\n",
              "  .colab-df-spinner {\n",
              "    border: 2px solid var(--fill-color);\n",
              "    border-color: transparent;\n",
              "    border-bottom-color: var(--fill-color);\n",
              "    animation:\n",
              "      spin 1s steps(1) infinite;\n",
              "  }\n",
              "\n",
              "  @keyframes spin {\n",
              "    0% {\n",
              "      border-color: transparent;\n",
              "      border-bottom-color: var(--fill-color);\n",
              "      border-left-color: var(--fill-color);\n",
              "    }\n",
              "    20% {\n",
              "      border-color: transparent;\n",
              "      border-left-color: var(--fill-color);\n",
              "      border-top-color: var(--fill-color);\n",
              "    }\n",
              "    30% {\n",
              "      border-color: transparent;\n",
              "      border-left-color: var(--fill-color);\n",
              "      border-top-color: var(--fill-color);\n",
              "      border-right-color: var(--fill-color);\n",
              "    }\n",
              "    40% {\n",
              "      border-color: transparent;\n",
              "      border-right-color: var(--fill-color);\n",
              "      border-top-color: var(--fill-color);\n",
              "    }\n",
              "    60% {\n",
              "      border-color: transparent;\n",
              "      border-right-color: var(--fill-color);\n",
              "    }\n",
              "    80% {\n",
              "      border-color: transparent;\n",
              "      border-right-color: var(--fill-color);\n",
              "      border-bottom-color: var(--fill-color);\n",
              "    }\n",
              "    90% {\n",
              "      border-color: transparent;\n",
              "      border-bottom-color: var(--fill-color);\n",
              "    }\n",
              "  }\n",
              "</style>\n",
              "\n",
              "  <script>\n",
              "    async function quickchart(key) {\n",
              "      const quickchartButtonEl =\n",
              "        document.querySelector('#' + key + ' button');\n",
              "      quickchartButtonEl.disabled = true;  // To prevent multiple clicks.\n",
              "      quickchartButtonEl.classList.add('colab-df-spinner');\n",
              "      try {\n",
              "        const charts = await google.colab.kernel.invokeFunction(\n",
              "            'suggestCharts', [key], {});\n",
              "      } catch (error) {\n",
              "        console.error('Error during call to suggestCharts:', error);\n",
              "      }\n",
              "      quickchartButtonEl.classList.remove('colab-df-spinner');\n",
              "      quickchartButtonEl.classList.add('colab-df-quickchart-complete');\n",
              "    }\n",
              "    (() => {\n",
              "      let quickchartButtonEl =\n",
              "        document.querySelector('#df-933a0dce-29ea-4515-9f1b-8e5c2f8b2afd button');\n",
              "      quickchartButtonEl.style.display =\n",
              "        google.colab.kernel.accessAllowed ? 'block' : 'none';\n",
              "    })();\n",
              "  </script>\n",
              "</div>\n",
              "\n",
              "    </div>\n",
              "  </div>\n"
            ],
            "application/vnd.google.colaboratory.intrinsic+json": {
              "type": "dataframe",
              "variable_name": "X"
            }
          },
          "metadata": {},
          "execution_count": 5
        }
      ]
    },
    {
      "cell_type": "code",
      "execution_count": null,
      "metadata": {
        "colab": {
          "base_uri": "https://localhost:8080/"
        },
        "id": "wt7saPK2Y125",
        "outputId": "b6e30ac0-0657-4091-fe50-137ce20e24ca"
      },
      "outputs": [
        {
          "output_type": "execute_result",
          "data": {
            "text/plain": [
              "(70000,)"
            ]
          },
          "metadata": {},
          "execution_count": 5
        }
      ],
      "source": [
        "y.shape\n"
      ]
    },
    {
      "cell_type": "markdown",
      "metadata": {
        "id": "YV1zQijyY8cA"
      },
      "source": [
        "There are 70,000 images, and each image has 784 features. This is because each image is 28×28 pixels,\n",
        "and each feature simply represents one pixel’s intensity, from 0 (white) to 255 (black). Take a peek at\n",
        "one digit from the dataset. All required is to grab an instance’s feature vector, reshape it to a 28×28\n",
        "array, and display it using Matplotlib’s imshow() function using the following code.\n"
      ]
    },
    {
      "cell_type": "code",
      "execution_count": null,
      "metadata": {
        "colab": {
          "base_uri": "https://localhost:8080/",
          "height": 406
        },
        "id": "76fInqxLY9lw",
        "outputId": "2601d658-1684-4dee-f268-b8b80f149009"
      },
      "outputs": [
        {
          "output_type": "display_data",
          "data": {
            "text/plain": [
              "<Figure size 640x480 with 1 Axes>"
            ],
            "image/png": "[encoded data removed]"
          },
          "metadata": {}
        }
      ],
      "source": [
        "import matplotlib as mpl\n",
        "import matplotlib.pyplot as plt\n",
        "import cv2\n",
        "some_digit = X.iloc[1000] # change index number from 0 to 69999\n",
        "some_digit_image = some_digit.values.reshape(28, 28)\n",
        "plt.imshow(some_digit_image, cmap = mpl.cm.binary,\n",
        "interpolation=\"nearest\")\n",
        "plt.axis(\"off\")\n",
        "plt.show()"
      ]
    },
    {
      "cell_type": "markdown",
      "metadata": {
        "id": "ydKe2ENEZFlu"
      },
      "source": [
        "This looks like a 0, and indeed that’s what the label tells"
      ]
    },
    {
      "cell_type": "code",
      "execution_count": null,
      "metadata": {
        "colab": {
          "base_uri": "https://localhost:8080/",
          "height": 36
        },
        "id": "9M84bcwGZC_i",
        "outputId": "5071c623-10fa-410b-bc82-acd3e3e7bddd"
      },
      "outputs": [
        {
          "output_type": "execute_result",
          "data": {
            "text/plain": [
              "'0'"
            ],
            "application/vnd.google.colaboratory.intrinsic+json": {
              "type": "string"
            }
          },
          "metadata": {},
          "execution_count": 7
        }
      ],
      "source": [
        "y[1000]\n"
      ]
    },
    {
      "cell_type": "markdown",
      "metadata": {
        "id": "MdJvE2FOZOjk"
      },
      "source": [
        "A test set is required to be created before inspecting the data closely. The MNIST dataset is actually\n",
        "already split into a training set (the first 60,000 images) and a test set (the last 10,000 images)."
      ]
    },
    {
      "cell_type": "code",
      "execution_count": null,
      "metadata": {
        "id": "znfk6l6RZPd-"
      },
      "outputs": [],
      "source": [
        "X_train, X_test, y_train, y_test = X[:60000], X[60000:], y[:60000], y[60000:]\n"
      ]
    },
    {
      "cell_type": "markdown",
      "source": [
        "# 1. Multiclass Classification"
      ],
      "metadata": {
        "id": "qQO-L-BNXvOL"
      }
    },
    {
      "cell_type": "markdown",
      "source": [
        "## Steps:\n",
        "1. Implement 10 different binary classifiers (0- detector, 1- detector ,..., 9-detector)\n",
        "2. Train & test all the models.\n",
        "3. To predict class of a new image, pass image to all the ten detectors and obatin decision score\n",
        "4. Classifier with highest score is the class of the test image.\n"
      ],
      "metadata": {
        "id": "9otwlLcrYL-q"
      }
    },
    {
      "cell_type": "code",
      "source": [
        "# Do it yourself."
      ],
      "metadata": {
        "id": "y1w0Df10Xz3D"
      },
      "execution_count": null,
      "outputs": []
    },
    {
      "cell_type": "markdown",
      "metadata": {
        "id": "sXRHqMoPaTfM"
      },
      "source": [
        "# 2. Multilabel Classification\n",
        "Follwing code has two possible output labels.\n",
        "1. Output label 1, if the number(0-9) is odd\n",
        "2. Output label 2, if the number(0-9) is above 7"
      ]
    },
    {
      "cell_type": "markdown",
      "source": [
        "### Caution\n",
        "Use a classifier that is capable of doing multilabel classification (e.g. KNeighbourClassification)"
      ],
      "metadata": {
        "id": "JjsU54V_fHPB"
      }
    },
    {
      "cell_type": "code",
      "execution_count": null,
      "metadata": {
        "colab": {
          "base_uri": "https://localhost:8080/",
          "height": 513
        },
        "id": "J4Dr9QTYaU0a",
        "outputId": "a1ae4837-fc76-4d90-e2a2-ddd8c07c7192"
      },
      "outputs": [
        {
          "output_type": "display_data",
          "data": {
            "text/plain": [
              "<Figure size 640x480 with 1 Axes>"
            ],
            "image/png": "[encoded data removed]"
          },
          "metadata": {}
        },
        {
          "output_type": "stream",
          "name": "stderr",
          "text": [
            "/usr/local/lib/python3.11/dist-packages/sklearn/utils/validation.py:2739: UserWarning: X does not have valid feature names, but KNeighborsClassifier was fitted with feature names\n",
            "  warnings.warn(\n"
          ]
        },
        {
          "output_type": "stream",
          "name": "stdout",
          "text": [
            "CPU times: user 459 ms, sys: 194 ms, total: 653 ms\n",
            "Wall time: 659 ms\n"
          ]
        },
        {
          "output_type": "execute_result",
          "data": {
            "text/plain": [
              "array([[ True,  True]])"
            ]
          },
          "metadata": {},
          "execution_count": 11
        }
      ],
      "source": [
        "%%time\n",
        "import numpy as np\n",
        "from sklearn.neighbors import KNeighborsClassifier\n",
        "y_train_large = (y_train.astype(float) >= 7)\n",
        "#print(y_train_large)\n",
        "y_train_odd = (y_train.astype(float) % 2 == 1)\n",
        "# Following line combines the two binary arrays (y_train_large and y_train_odd) horizontally\n",
        "# into a single array using numpy's c_ function. This forms a multi-label\n",
        "# dataset where each sample can belong to multiple classes\n",
        "#(in this case, \"large\" and \"odd\").\n",
        "y_multilabel = np.c_[y_train_large, y_train_odd]\n",
        "# print(y_multilabel)\n",
        "y_test_large = (y_test.astype(float) >= 7)\n",
        "y_test_odd = (y_test.astype(float) % 2 == 1)\n",
        "y_multilabel_test = np.c_[y_test_large, y_test_odd]\n",
        "#print(y_multilabel_test)\n",
        "\n",
        "model1 = KNeighborsClassifier()\n",
        "model1.fit(X_train, y_multilabel)\n",
        "#some_digit = X.iloc[1000] # change index number from 0 to 69999\n",
        "#some_digit = X.iloc[50] # 3 is at index 50\n",
        "some_digit = X.iloc[120] # 7 is at index 120\n",
        "some_digit_image = some_digit.values.reshape(28, 28)\n",
        "plt.imshow(some_digit_image, cmap = mpl.cm.binary,\n",
        "interpolation=\"nearest\")\n",
        "plt.axis(\"off\")\n",
        "plt.show()\n",
        "model1.predict([some_digit])"
      ]
    },
    {
      "cell_type": "code",
      "execution_count": null,
      "metadata": {
        "id": "G4QtO3T-E0Lf",
        "colab": {
          "base_uri": "https://localhost:8080/"
        },
        "outputId": "d86d077b-66f0-45fb-9605-c7132389d394"
      },
      "outputs": [
        {
          "output_type": "stream",
          "name": "stdout",
          "text": [
            "CPU times: user 1min 6s, sys: 4.54 s, total: 1min 10s\n",
            "Wall time: 48.3 s\n"
          ]
        }
      ],
      "source": [
        "%%time\n",
        "Y_pred=model1.predict(X_test)\n",
        "#print(Y_pred)"
      ]
    },
    {
      "cell_type": "markdown",
      "source": [
        "### Performance Metrics"
      ],
      "metadata": {
        "id": "AfmECr_LgChJ"
      }
    },
    {
      "cell_type": "code",
      "execution_count": null,
      "metadata": {
        "colab": {
          "base_uri": "https://localhost:8080/"
        },
        "id": "EXLy0r8ZE8Li",
        "outputId": "667c68fb-66f7-4bde-e3dc-a7bc39c6dfe6"
      },
      "outputs": [
        {
          "output_type": "stream",
          "name": "stdout",
          "text": [
            "Label 1:\n",
            "True Positives: 2905\n",
            "False Positives: 72\n",
            "True Negatives: 6917\n",
            "False Negatives: 106\n",
            "Label 2:\n",
            "True Positives: 5027\n",
            "False Positives: 101\n",
            "True Negatives: 4825\n",
            "False Negatives: 47\n",
            "              precision    recall  f1-score   support\n",
            "\n",
            " large label       0.98      0.96      0.97      3011\n",
            "   odd label       0.98      0.99      0.99      5074\n",
            "\n",
            "   micro avg       0.98      0.98      0.98      8085\n",
            "   macro avg       0.98      0.98      0.98      8085\n",
            "weighted avg       0.98      0.98      0.98      8085\n",
            " samples avg       0.59      0.59      0.59      8085\n",
            "\n",
            "The accuracy is 97.66%\n"
          ]
        },
        {
          "output_type": "stream",
          "name": "stderr",
          "text": [
            "/usr/local/lib/python3.11/dist-packages/sklearn/metrics/_classification.py:1565: UndefinedMetricWarning: Precision is ill-defined and being set to 0.0 in samples with no predicted labels. Use `zero_division` parameter to control this behavior.\n",
            "  _warn_prf(average, modifier, f\"{metric.capitalize()} is\", len(result))\n",
            "/usr/local/lib/python3.11/dist-packages/sklearn/metrics/_classification.py:1565: UndefinedMetricWarning: Recall is ill-defined and being set to 0.0 in samples with no true labels. Use `zero_division` parameter to control this behavior.\n",
            "  _warn_prf(average, modifier, f\"{metric.capitalize()} is\", len(result))\n",
            "/usr/local/lib/python3.11/dist-packages/sklearn/metrics/_classification.py:1565: UndefinedMetricWarning: F-score is ill-defined and being set to 0.0 in samples with no true nor predicted labels. Use `zero_division` parameter to control this behavior.\n",
            "  _warn_prf(average, modifier, f\"{metric.capitalize()} is\", len(result))\n"
          ]
        }
      ],
      "source": [
        "# confusion matrix\n",
        "mcm = multilabel_confusion_matrix(y_multilabel_test, Y_pred)\n",
        "# Iterate over each label\n",
        "for i in range(len(mcm)):\n",
        "    tn, fp, fn, tp = mcm[i].ravel()\n",
        "    print(f\"Label {i+1}:\")\n",
        "    print(f\"True Positives: {tp}\")\n",
        "    print(f\"False Positives: {fp}\")\n",
        "    print(f\"True Negatives: {tn}\")\n",
        "    print(f\"False Negatives: {fn}\")\n",
        "\n",
        "#classification report\n",
        "target_names = ['large label', 'odd label']\n",
        "print(classification_report(y_multilabel_test, Y_pred,target_names=target_names))\n",
        "\n",
        "# Model Accuracy\n",
        "print(\"The accuracy is \"+str(metrics.accuracy_score(y_multilabel_test,Y_pred)*100)+\"%\")"
      ]
    },
    {
      "cell_type": "markdown",
      "source": [
        "# Task:\n",
        "Compare and comment on precision, recall, f1-score, support for both labels"
      ],
      "metadata": {
        "id": "IM5PphuqhB1Z"
      }
    },
    {
      "cell_type": "markdown",
      "metadata": {
        "id": "4dAS2BPDXwYl"
      },
      "source": [
        "# 3. Multioutput Classification\n"
      ]
    },
    {
      "cell_type": "markdown",
      "source": [
        "## Task\n",
        "1. Download MNIST as a CSV file (use code given in next cell)[ Note: target appears as first cvolumn ]\n",
        "2. Modify file to inlcude 3 classes only (say 4, 5, 8)\n",
        "3. Move target column at the end.\n",
        "4. Separate input featrues  and target\n",
        "5. Add any two output lables of your choice (say 1. no. is even, 2. no. >5)\n",
        "6. Perform train test split\n",
        "7. Train and evaluate model using some multilabel classifier\n",
        "8. Analyze performance and metrics and share your observation\n"
      ],
      "metadata": {
        "id": "EAWhH6WbjG2I"
      }
    },
    {
      "cell_type": "code",
      "source": [
        "# MNIST dataset is already downloded as mnist\n",
        "\n",
        "import pandas as pd\n",
        "# Convert to DataFrame\n",
        "data = pd.DataFrame(mnist.data)\n",
        "data.insert(0, \"label\", mnist.target)  # Insert labels as first column\n",
        "# Save to CSV\n",
        "data.to_csv(\"/content/drive/MyDrive/MLPractical/mnist.csv\", index=False)\n",
        "print(\"MNIST dataset saved as mnist.csv\")"
      ],
      "metadata": {
        "colab": {
          "base_uri": "https://localhost:8080/"
        },
        "id": "cGMYXhOBkfSo",
        "outputId": "2c64cbba-f58c-4407-b572-ab045e0d47d7"
      },
      "execution_count": null,
      "outputs": [
        {
          "output_type": "stream",
          "name": "stdout",
          "text": [
            "MNIST dataset saved as mnist.csv\n"
          ]
        }
      ]
    }
  ],
  "metadata": {
    "colab": {
      "provenance": []
    },
    "kernelspec": {
      "display_name": "Python 3",
      "name": "python3"
    },
    "language_info": {
      "name": "python"
    }
  },
  "nbformat": 4,
  "nbformat_minor": 0
}